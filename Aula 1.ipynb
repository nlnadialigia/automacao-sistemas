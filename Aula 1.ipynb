{
 "cells": [
  {
   "cell_type": "markdown",
   "metadata": {
    "id": "QysMLhUEjOcI"
   },
   "source": [
    "# Automação de Sistemas e Processos com Python\n",
    "\n",
    "### Desafio:\n",
    "\n",
    "Todos os dias, o nosso sistema atualiza as vendas do dia anterior.\n",
    "O seu trabalho diário, como analista, é enviar um e-mail para a diretoria, assim que começar a trabalhar, com o faturamento e a quantidade de produtos vendidos no dia anterior\n",
    "\n",
    "E-mail da diretoria: seugmail+diretoria@gmail.com<br>\n",
    "Local onde o sistema disponibiliza as vendas do dia anterior: https://drive.google.com/drive/folders/149xknr9JvrlEnhNWO49zPcw0PW5icxga?usp=sharing\n",
    "\n",
    "Para resolver isso, vamos usar o pyautogui, uma biblioteca de automação de comandos do mouse e do teclado"
   ]
  },
  {
   "cell_type": "code",
   "execution_count": 2,
   "metadata": {},
   "outputs": [],
   "source": [
    "# Configurar autocomplete\n",
    "\n",
    "%config IPCompleter.greedy=True"
   ]
  },
  {
   "cell_type": "code",
   "execution_count": 3,
   "metadata": {},
   "outputs": [
    {
     "name": "stdout",
     "output_type": "stream",
     "text": [
      "15.825\n"
     ]
    }
   ],
   "source": [
    "# função para trocar ponto por vírgula\n",
    "def troca(n):\n",
    "    if isinstance(n, float):\n",
    "        n = f'{n:_.2f}'\n",
    "        n = n.replace('.', ',').replace('_', '.')\n",
    "    else:\n",
    "        n = f'{n:_}'\n",
    "        n = n.replace('_', '.')\n",
    "    return n\n",
    "x = troca(15825)\n",
    "print(x)"
   ]
  },
  {
   "cell_type": "code",
   "execution_count": 4,
   "metadata": {
    "colab": {
     "base_uri": "https://localhost:8080/",
     "height": 340
    },
    "executionInfo": {
     "elapsed": 235,
     "status": "error",
     "timestamp": 1633456156818,
     "user": {
      "displayName": "Nadia Ligia",
      "photoUrl": "https://lh3.googleusercontent.com/a-/AOh14GhAOL72-N0NRNmX92f1iqfdyBjQ5IHtJTO8aB_SiFQ=s64",
      "userId": "09159912756652954095"
     },
     "user_tz": 180
    },
    "id": "Jzg5WVHXjlJn",
    "outputId": "849bb3a3-31f3-47ba-8cb2-ae3fdda274a3",
    "scrolled": true
   },
   "outputs": [],
   "source": [
    "# Importar as bibliotecas\n",
    "\n",
    "import pyautogui as pya\n",
    "import pyperclip as pyp\n",
    "import time\n"
   ]
  },
  {
   "cell_type": "code",
   "execution_count": 5,
   "metadata": {
    "id": "wCe7jJnijOcN"
   },
   "outputs": [],
   "source": [
    "# Entrar no sistema onde está o relatório\n",
    "\n",
    "# configurar time entre os comandos do pyautogui\n",
    "pya.PAUSE = 1\n",
    "\n",
    "# abrir um novo navegador\n",
    "pya.hotkey('ctrl', 't')\n",
    "\n",
    "# Abrir o local do relatório\n",
    "\n",
    "# DRIVE\n",
    "link = 'https://drive.google.com/drive/folders/1dLyzipEinzwozuJLTrGciUOIYJvdk6g-?usp=sharing'\n",
    "pyp.copy(link)\n",
    "pya.hotkey('ctrl', 'v')\n",
    "pya.press('enter')\n",
    "time.sleep(5)\n",
    "\n",
    "# Baixar o relatório\n",
    "pya.click(x=588, y=267, clicks=2)\n",
    "pya.click(x=373, y=358)\n",
    "pya.click(x=1160, y=159)\n",
    "pya.click(x=990, y=595)\n",
    "time.sleep(5)\n",
    "pya.press('enter')\n"
   ]
  },
  {
   "cell_type": "markdown",
   "metadata": {
    "id": "Dg_DdJeljOcO"
   },
   "source": [
    "### Vamos agora ler o arquivo baixado para pegar os indicadores\n",
    "\n",
    "- Faturamento\n",
    "- Quantidade de Produtos"
   ]
  },
  {
   "cell_type": "code",
   "execution_count": 6,
   "metadata": {
    "id": "pUjfNJKujOcP"
   },
   "outputs": [],
   "source": [
    "import pandas as pd"
   ]
  },
  {
   "cell_type": "code",
   "execution_count": 7,
   "metadata": {
    "scrolled": true
   },
   "outputs": [
    {
     "data": {
      "text/html": [
       "<div>\n",
       "<style scoped>\n",
       "    .dataframe tbody tr th:only-of-type {\n",
       "        vertical-align: middle;\n",
       "    }\n",
       "\n",
       "    .dataframe tbody tr th {\n",
       "        vertical-align: top;\n",
       "    }\n",
       "\n",
       "    .dataframe thead th {\n",
       "        text-align: right;\n",
       "    }\n",
       "</style>\n",
       "<table border=\"1\" class=\"dataframe\">\n",
       "  <thead>\n",
       "    <tr style=\"text-align: right;\">\n",
       "      <th></th>\n",
       "      <th>Código Venda</th>\n",
       "      <th>Data</th>\n",
       "      <th>ID Loja</th>\n",
       "      <th>Produto</th>\n",
       "      <th>Quantidade</th>\n",
       "      <th>Valor Unitário</th>\n",
       "      <th>Valor Final</th>\n",
       "    </tr>\n",
       "  </thead>\n",
       "  <tbody>\n",
       "    <tr>\n",
       "      <th>0</th>\n",
       "      <td>65014</td>\n",
       "      <td>2019-12-01</td>\n",
       "      <td>Shopping Morumbi</td>\n",
       "      <td>Sunga Listrado</td>\n",
       "      <td>5</td>\n",
       "      <td>114</td>\n",
       "      <td>570</td>\n",
       "    </tr>\n",
       "  </tbody>\n",
       "</table>\n",
       "</div>"
      ],
      "text/plain": [
       "   Código Venda       Data           ID Loja         Produto  Quantidade  \\\n",
       "0         65014 2019-12-01  Shopping Morumbi  Sunga Listrado           5   \n",
       "\n",
       "   Valor Unitário  Valor Final  \n",
       "0             114          570  "
      ]
     },
     "metadata": {},
     "output_type": "display_data"
    }
   ],
   "source": [
    "tabela = pd.read_excel(r'C://Users/nadiasantos.PREFEITURA/Videos/Projetos/Vendas - Dez.xlsx')\n",
    "display(tabela.head(1))\n",
    "\n",
    "faturamento = tabela['Valor Final'].sum()\n",
    "quantidade = tabela['Quantidade'].sum()"
   ]
  },
  {
   "cell_type": "markdown",
   "metadata": {
    "id": "s0J3j1UhjOcP"
   },
   "source": [
    "### Vamos agora enviar um e-mail pelo gmail"
   ]
  },
  {
   "cell_type": "code",
   "execution_count": 8,
   "metadata": {
    "id": "0xcFUWmajOcP"
   },
   "outputs": [],
   "source": [
    "# abrir o email\n",
    "pya.hotkey('ctrl', 't')\n",
    "pyp.copy('https://mail.google.com')\n",
    "pya.hotkey('ctrl', 'v')\n",
    "pya.press('enter')\n",
    "time.sleep(3)\n",
    "\n",
    "# criar um novo email\n",
    "pya.click(x=110, y=169)\n",
    "time.sleep(3)\n",
    "pya.write('nlnadialigia+diretoria@gmail.com')\n",
    "pya.press('tab')\n",
    "pya.press('tab')\n",
    "assunto = 'Relatório de vendas'\n",
    "pyp.copy(assunto)\n",
    "pya.hotkey('ctrl', 'v')\n",
    "pya.press('tab')\n",
    "texto = f\"\"\"\n",
    "Bom dia!\n",
    "\n",
    "O faturamento de ontem foi de: R${troca(faturamento)}.\n",
    "A quantidade de produtos foi de: {troca(quantidade)}.\n",
    "\n",
    "Att.\n",
    "\n",
    "Nádia Ligia\"\"\"\n",
    "pyp.copy(texto)\n",
    "pya.hotkey('ctrl', 'v')\n",
    "pya.hotkey('ctrl', 'enter')"
   ]
  },
  {
   "cell_type": "markdown",
   "metadata": {
    "id": "wW3IiIywjOcQ"
   },
   "source": [
    "#### Use esse código para descobrir qual a posição de um item que queira clicar\n",
    "\n",
    "- Lembre-se: a posição na sua tela é diferente da posição na minha tela"
   ]
  },
  {
   "cell_type": "code",
   "execution_count": 9,
   "metadata": {
    "id": "Px0n_ltnjOcQ"
   },
   "outputs": [
    {
     "data": {
      "text/plain": [
       "Point(x=110, y=169)"
      ]
     },
     "execution_count": 9,
     "metadata": {},
     "output_type": "execute_result"
    }
   ],
   "source": [
    "time.sleep(5)\n",
    "pya.position()"
   ]
  }
 ],
 "metadata": {
  "colab": {
   "name": "Aula 1.ipynb",
   "provenance": []
  },
  "kernelspec": {
   "display_name": "Python 3",
   "language": "python",
   "name": "python3"
  },
  "language_info": {
   "codemirror_mode": {
    "name": "ipython",
    "version": 3
   },
   "file_extension": ".py",
   "mimetype": "text/x-python",
   "name": "python",
   "nbconvert_exporter": "python",
   "pygments_lexer": "ipython3",
   "version": "3.8.8"
  }
 },
 "nbformat": 4,
 "nbformat_minor": 1
}
